{
 "cells": [
  {
   "cell_type": "markdown",
   "id": "30fce050",
   "metadata": {
    "id": "30fce050"
   },
   "source": [
    "<center>\n",
    "    <img src=\"https://drive.google.com/uc?export=view&id=1hDKusF04c0lNZA_qOShvWQrpImayVKz8\"  width=\"1000\" />\n",
    "</center>"
   ]
  },
  {
   "cell_type": "markdown",
   "id": "78957aef",
   "metadata": {
    "id": "78957aef"
   },
   "source": [
    "# Tugas Mandiri\n",
    "---\n",
    "Tugas mandiri ini digunakan pada kegiatan Kursus Data Science yang merupakan pembekalan bagi mahasiswa Universitas Gunadarma untuk Skema Associate Data Scientist"
   ]
  },
  {
   "cell_type": "markdown",
   "id": "e1d3e6a4",
   "metadata": {
    "id": "e1d3e6a4"
   },
   "source": [
    "### Pertemuan 1 - Semester 8"
   ]
  },
  {
   "cell_type": "markdown",
   "id": "d4269619",
   "metadata": {
    "id": "d4269619"
   },
   "source": [
    "### Daftar Isi :\n",
    "1. Definisi Menelaah Data (Data Understanding)\n",
    "2. Sumber Data\n",
    "3. Tipe Data berdasarkan Susunan Data: Structured and Unstructured Data\n",
    "4. Tipe Data berdasarkan Sifat, Cara Pengumpulan, Waktu\n",
    "5. Metode Pengambilan Data\n",
    "6. Pencilan (Tukey's fences)"
   ]
  },
  {
   "cell_type": "markdown",
   "id": "caec2707",
   "metadata": {
    "id": "caec2707"
   },
   "source": [
    "<center>\n",
    "    <img src=\"https://www.researchgate.net/profile/David-Corrales-2/publication/283430974/figure/fig1/AS:614004070309903@1523401386613/phases-and-generic-tasks-of-CRISP-DM.png\"  width=\"500\" />\n",
    "</center>"
   ]
  },
  {
   "cell_type": "markdown",
   "id": "e8049275",
   "metadata": {
    "id": "e8049275"
   },
   "source": [
    "### 1. Definisi Menelaah Data (*Data Understanding*)\n",
    "----"
   ]
  },
  {
   "cell_type": "markdown",
   "id": "4310f023",
   "metadata": {
    "id": "4310f023"
   },
   "source": [
    "Secara garis besar, *data understanding* adalah tahapan setelah  setelah problem bisnis telah didefinisikan sebagai hasil tahapan *business understanding.\n",
    "\n",
    "Tahapan *data understanding* dilakukab untuk memeriksa data sehingga masalah pada data yang didapatkan dapat terindentifikasi.\n",
    "\n",
    "- Tujuan: mendapatkan gambaran utuh atas data.\n",
    "- Dilanjutkan ke persiapan data (data preparation), jika pemahaman awal data cukup atau kembali ke business understanding jika definisi permasalahan bisnis harus direvisi.\n"
   ]
  },
  {
   "cell_type": "markdown",
   "id": "53f77fca",
   "metadata": {
    "id": "53f77fca"
   },
   "source": [
    "#### 1.1 Mengapa Perlu Data Understanding?"
   ]
  },
  {
   "cell_type": "markdown",
   "id": "d6bc56a8",
   "metadata": {
    "id": "d6bc56a8"
   },
   "source": [
    "- Data merupakan bahan mentah solusi AI.\n",
    "- Data dari masing-masing sumber belum tentu dapat langsung dipakai karena:\n",
    "- Maksud dan tujuan data berbeda-beda\n",
    "- Keadaan asal terpisah-pisah atau justru terintegrasi secara ketat.\n",
    "- Tingkat kekayaan (richness) berbeda-beda\n",
    "- Tingkat keandalan (reliability) berbeda-beda\n",
    "- Data understanding memberikan gambaran awal tentang:\n",
    "    - Kekuatan data\n",
    "    - Kekurangan dan batasan penggunaan data\n",
    "    - Tingkat kesesuaian data dengan masalah bisnis yang akan dipecahkan\n",
    "    - Ketersediaan data (terbuka/tertutup, biaya akses, dsb.)\n",
    "\n"
   ]
  },
  {
   "cell_type": "markdown",
   "id": "7edd9a43",
   "metadata": {
    "id": "7edd9a43"
   },
   "source": [
    "### 2. Sumber Data \n",
    "----"
   ]
  },
  {
   "cell_type": "markdown",
   "id": "ad83f72d",
   "metadata": {
    "id": "ad83f72d"
   },
   "source": [
    "Sumber data terbagi menjadi dua yaitu sumber data *internal* dan *external* :\n",
    "1. Sumber Data *Internal*\n",
    "    - Spreadsheets (Excel, CSV, JSON, etc)\n",
    "    - Databases : Can be queried via SQL, etc\n",
    "    - Text documents\n",
    "    - Multimedia documents (audio & video)\n",
    "2. Sumber Data *External*\n",
    "    - Open data repositories\n",
    "    - Public domain web pages"
   ]
  },
  {
   "cell_type": "markdown",
   "id": "303f6330",
   "metadata": {
    "id": "303f6330"
   },
   "source": [
    "### 3. Tipe Data berdasarkan Susunan Data: Structured and Unstructured Data\n",
    "----"
   ]
  },
  {
   "cell_type": "markdown",
   "id": "9f70a607",
   "metadata": {
    "id": "9f70a607"
   },
   "source": [
    "<center>\n",
    "    <img src=\"https://drive.google.com/uc?export=view&id=1hsSAywFiHx_0nLIPx7s_8PFH5Uz46J9d\"\n",
    "    width=\"500\" />\n",
    "</center>"
   ]
  },
  {
   "cell_type": "markdown",
   "id": "36e8fe18",
   "metadata": {
    "id": "36e8fe18"
   },
   "source": [
    "Data semi-terstruktur (semi-structured data): Data terstruktur yang tidak mengikuti model struktur tabular yang seperti pada basis data relasional, namun tetap mengandung tags atau penanda lainnya yang dapat memisahkan elemen-elemen semantik pada data serta mengatur hierarki antara butir-butir datanya.\n"
   ]
  },
  {
   "cell_type": "markdown",
   "id": "7b96add8",
   "metadata": {
    "id": "7b96add8"
   },
   "source": [
    "### 4. Tipe Data berdasarkan Sifat, Cara Pengumpulan, Waktu\n",
    "------"
   ]
  },
  {
   "cell_type": "markdown",
   "id": "9547b8d0",
   "metadata": {
    "id": "9547b8d0"
   },
   "source": [
    "#### 4.1 Tipe Data Berdasarkan Sifatnya\n",
    "- Data dikotomi, merupakan data yang bersifat pilah satu sama lain, misalnya suku, agama, jenis kelamin, pendidikan, dan lain sebagainya.\n",
    "- Data diskrit, merupakan data yang proses pengumpulan datanya dijalankan dengan cara menghitung atau membilang. Seperti, jumlah anak, jumlah penduduk, jumlah kematian dan sebagainya.\n",
    "- Data kontinum, merupakan data pengumpulan datanya didapatkan dengan cara mengukur dengan alat ukur yang memakai skala tertentu. Seperti misalnya, Suhu, berat, bakat, kecerdasan, dan lainnya.\n"
   ]
  },
  {
   "cell_type": "markdown",
   "id": "8a5b8a73",
   "metadata": {
    "id": "8a5b8a73"
   },
   "source": [
    "#### 4.2 Tipe Data Tipe Data Berdasarkan Cara Pengumpulan\n",
    "- Data Primer, merupakan data yang didapatkan dari sumber pertama, atau dapat dikatakan pengumpulannya dilakukan sendiri oleh si peneliti secara langsung, seperti hasil wawancara dan hasil pengisian kuesioner (angket).\n",
    "- Data Sekunder, merupakan data yang didapatkan dari sumber kedua. Menurut Purwanto (2007), data sekunder yaitu data yang dikumpulkan oleh orang atau lembaga lain. Data sekunder adalah data yang digunakan atau diterbitkan oleh organisasi yang bukan pengolahnya (Soeratno dan Arsyad (2003;76).\n",
    "\n"
   ]
  },
  {
   "cell_type": "markdown",
   "id": "e3466701",
   "metadata": {
    "id": "e3466701"
   },
   "source": [
    "#### 4.3 Tipe Data Tipe Data Berdasarkan Waktu\n",
    "- Data Cross Section, merupakan data yang menunjukkan titik waktu tertentu. Contohnya laporan keuangan per 31 Desember 2020, data pelanggan PT. Data Indah bulan mei 2004, dan lain sebagainya.\n",
    "- Data Sekunder, merupakan data yang datanya menggambarkan sesuatu dari waktu ke waktu atau periode secara historis. Contoh data time series adalah data perkembangan nilai tukar dollar amerika terhadap rupiah tahun 2016 – 2020.\n",
    "\n"
   ]
  },
  {
   "cell_type": "markdown",
   "id": "6cc56866",
   "metadata": {
    "id": "6cc56866"
   },
   "source": [
    "### 5. Metode Pengambilan Data\n",
    "------"
   ]
  },
  {
   "cell_type": "markdown",
   "id": "69bbd574",
   "metadata": {
    "id": "69bbd574"
   },
   "source": [
    "Pengambilan data terbagi ke dalam beberapa jenis yaitu :\n",
    "- Pengambilan data secara manual.\n",
    "- Pengambilan data melalui API\n",
    "- Pengambilan data melalui web scraping\n",
    "- Pengambilan data melalui akses langsung ke basis data relasional yang ada.\n"
   ]
  },
  {
   "cell_type": "markdown",
   "id": "40369b8f",
   "metadata": {
    "id": "40369b8f"
   },
   "source": [
    "### 6. Pencilan (Tukey's fences)\n",
    "---"
   ]
  },
  {
   "cell_type": "markdown",
   "id": "6865a2ff",
   "metadata": {
    "id": "6865a2ff"
   },
   "source": [
    "<center>\n",
    "    <img src=\"https://pbs.twimg.com/media/E1g1k9oVoAEU9qa?format=jpg&name=900x900\"\n",
    "    width=\"500\" />\n",
    "</center>"
   ]
  },
  {
   "cell_type": "markdown",
   "id": "9cb9e194",
   "metadata": {
    "id": "9cb9e194"
   },
   "source": [
    "Tukey's fences memakai rentang antarkuartil (interquartile range) -> IQR = Q3-Q1\n",
    "- Xi adalah pencilan jika Xi < Q1 - 1.5(IQR) atau Xi > Q3 + 1.5(IQR)\n",
    "- Xi adalah pencilan ekstrim jika Xi < Q1 - 3(IQR) atau Xi > Q3 + 3(IQR)"
   ]
  },
  {
   "cell_type": "markdown",
   "id": "19052c0b",
   "metadata": {
    "id": "19052c0b"
   },
   "source": [
    "## Tugas Mandiri Menelaah Data"
   ]
  },
  {
   "cell_type": "markdown",
   "id": "105faada",
   "metadata": {
    "id": "105faada"
   },
   "source": [
    "### Import Library"
   ]
  },
  {
   "cell_type": "code",
   "execution_count": null,
   "id": "eda21257",
   "metadata": {
    "id": "eda21257"
   },
   "outputs": [],
   "source": [
    "# 1. Import Library Pandas\n",
    "import <...> as <...>"
   ]
  },
  {
   "cell_type": "code",
   "execution_count": null,
   "id": "5cf8c0b9",
   "metadata": {
    "id": "5cf8c0b9"
   },
   "outputs": [],
   "source": [
    "# 2. Memuat Data\n",
    "df = <...>.<...>('delay_maskapai.csv')"
   ]
  },
  {
   "cell_type": "markdown",
   "id": "83058481",
   "metadata": {
    "id": "83058481"
   },
   "source": [
    "### Menelaah Data dengan Metode Statistik"
   ]
  },
  {
   "cell_type": "code",
   "execution_count": null,
   "id": "0c5179ca",
   "metadata": {
    "id": "0c5179ca"
   },
   "outputs": [],
   "source": [
    "# 3. Menampilkan 5 baris pertama dari dataset\n",
    "df.<...>()"
   ]
  },
  {
   "cell_type": "code",
   "execution_count": null,
   "id": "53c3c99d",
   "metadata": {
    "id": "53c3c99d"
   },
   "outputs": [],
   "source": [
    "# 4. Menampilkan 10 baris pertama dari dataset\n",
    "df.<...>(<...>)"
   ]
  },
  {
   "cell_type": "code",
   "execution_count": null,
   "id": "13d4c613",
   "metadata": {
    "id": "13d4c613"
   },
   "outputs": [],
   "source": [
    "# 5. enampilkan 5 baris terakhir dari dataset\n",
    "df.tail()"
   ]
  },
  {
   "cell_type": "code",
   "execution_count": null,
   "id": "2e0ae7d8",
   "metadata": {
    "id": "2e0ae7d8"
   },
   "outputs": [],
   "source": [
    "# 6. Menampilkan 20 baris terakhir dari dataset\n",
    "df.<...>(<...>)"
   ]
  },
  {
   "cell_type": "code",
   "execution_count": null,
   "id": "079cc164",
   "metadata": {
    "id": "079cc164"
   },
   "outputs": [],
   "source": [
    "# 7. Mengetahui jumlah baris dan kolom memanfaatkan fungsi shape\n",
    "df.shape"
   ]
  },
  {
   "cell_type": "code",
   "execution_count": null,
   "id": "eca60a59",
   "metadata": {
    "id": "eca60a59"
   },
   "outputs": [],
   "source": [
    "# 8. Mengetahui jumlah baris dan kolom memanfaatkan fungsi shape\n",
    "print(\"Jumlah Baris : \", df.shape[<...>])\n",
    "print(\"Jumlah Kolom : \", df.shape[<...>])"
   ]
  },
  {
   "cell_type": "code",
   "execution_count": null,
   "id": "45aa5ebd",
   "metadata": {
    "id": "45aa5ebd"
   },
   "outputs": [],
   "source": [
    "# 9. Mengetahui tipe data pada dataset\n",
    "df.dtypes"
   ]
  },
  {
   "cell_type": "code",
   "execution_count": null,
   "id": "0e0f20b7",
   "metadata": {
    "id": "0e0f20b7"
   },
   "outputs": [],
   "source": [
    "# 10. Menampilkan statistik kolom\n",
    "df.describe()"
   ]
  },
  {
   "cell_type": "code",
   "execution_count": null,
   "id": "29992d2d",
   "metadata": {
    "id": "29992d2d"
   },
   "outputs": [],
   "source": [
    "# 11. Menampilkan statistik kolom baik yang bertipe numerik dan non numerik menggunakan fungsi describe\n",
    "df.describe(include='<...>')"
   ]
  },
  {
   "cell_type": "markdown",
   "id": "3cba221e",
   "metadata": {
    "id": "3cba221e"
   },
   "source": [
    "### Mendeteksi Outliers"
   ]
  },
  {
   "cell_type": "code",
   "execution_count": null,
   "id": "43bef253",
   "metadata": {
    "id": "43bef253"
   },
   "outputs": [],
   "source": [
    "q1 = df.select_dtypes(exclude=['object']).quantile (0.25)\n",
    "q3 = df.select_dtypes(exclude=['object']).quantile (0.75)\n",
    "iqr = q3-q1\n",
    "iqr"
   ]
  },
  {
   "cell_type": "code",
   "execution_count": null,
   "id": "cdee1e58",
   "metadata": {
    "id": "cdee1e58"
   },
   "outputs": [],
   "source": [
    "# 12. Melihat batas bawah/minimum dari Interquartile Range (IQR)\n",
    "batas_bawah = q1 - (<...> * iqr)\n",
    "batas_bawah"
   ]
  },
  {
   "cell_type": "code",
   "execution_count": null,
   "id": "1df6caab",
   "metadata": {
    "id": "1df6caab"
   },
   "outputs": [],
   "source": [
    "# 13. Melihat batas atas/maksimum dari Iterquartile Range (IQR)\n",
    "batas_atas = q3 + (<...> * iqr)\n",
    "batas_atas"
   ]
  },
  {
   "cell_type": "markdown",
   "id": "6ac1d14a",
   "metadata": {
    "id": "6ac1d14a"
   },
   "source": [
    "Dari kode di atas dapat diketahui berapa nilai untuk batas atas dan batas bawah dari setiap kolom"
   ]
  },
  {
   "cell_type": "code",
   "execution_count": null,
   "id": "42937fb2",
   "metadata": {
    "id": "42937fb2"
   },
   "outputs": [],
   "source": [
    "# 14. Menampung kolom dengan tipe data selain object\n",
    "df_ex_object = df.<...>(<...>=[<...>])"
   ]
  },
  {
   "cell_type": "code",
   "execution_count": null,
   "id": "e21744b5",
   "metadata": {
    "id": "e21744b5"
   },
   "outputs": [],
   "source": [
    "# 15. Filter outlier pada dataset dengan batas bawah dan atas\n",
    "outlier_filter = ((df_ex_object < <...>) | (df_ex_object > <...>))\n",
    "outlier_filter"
   ]
  },
  {
   "cell_type": "code",
   "execution_count": null,
   "id": "885a5959",
   "metadata": {
    "id": "885a5959"
   },
   "outputs": [],
   "source": [
    "## 16. Menghitung Jumlah Outlier Pada Data\n",
    "for col in outlier_filter.columns :\n",
    "    \n",
    "    # Exclude kolom dengan tipe data object     \n",
    "    if df[col].dtype != <...> :\n",
    "        print('Nama Kolom:',col)\n",
    "        print(outlier_filter[col].value_counts())\n",
    "        print('-------------------')"
   ]
  },
  {
   "cell_type": "code",
   "execution_count": null,
   "id": "c7799935",
   "metadata": {
    "id": "c7799935"
   },
   "outputs": [],
   "source": [
    "# 17. Persentase Outliers\n",
    "length_outliers_percentage = len(outlier_filter[outlier_filter.Length==<...>]) / <...>(df['Length']) * <...>\n",
    "length_outliers_percentage"
   ]
  },
  {
   "cell_type": "code",
   "execution_count": null,
   "id": "f670c72e",
   "metadata": {
    "id": "f670c72e"
   },
   "outputs": [],
   "source": [
    "# 18. Analisa standar deviasi panjang penerbangan masing-masing maskapai dengan Groupby\n",
    "df.groupby('Airline')['Length'].<...>()"
   ]
  },
  {
   "cell_type": "code",
   "execution_count": null,
   "id": "a1eacee6",
   "metadata": {
    "id": "a1eacee6"
   },
   "outputs": [],
   "source": [
    "# 19. Analisa jumlah delay masing-masing maskapai dengan Groupby\n",
    "df.groupby('<...>')['<...>'].<...>()"
   ]
  },
  {
   "cell_type": "code",
   "execution_count": null,
   "id": "9adcbb8b",
   "metadata": {
    "id": "9adcbb8b"
   },
   "outputs": [],
   "source": [
    "# 20. Analisa jumlah delay dari masing-masing hari dengan Groupby\n",
    "df.<...>(<...>)[<...>].<...>"
   ]
  },
  {
   "cell_type": "markdown",
   "id": "b0a5ce85",
   "metadata": {
    "id": "b0a5ce85"
   },
   "source": [
    "### Menelaah Data dengan Metode Visualisasi"
   ]
  },
  {
   "cell_type": "code",
   "execution_count": null,
   "id": "cceb2705",
   "metadata": {
    "id": "cceb2705"
   },
   "outputs": [],
   "source": [
    "# Import Library\n",
    "\n",
    "# 21. Library Numpy\n",
    "import <...> as np\n",
    "# 22. Pyplot\n",
    "import <...>.<...> as plt\n",
    "# 23. Seaborn\n",
    "import <...> as sns"
   ]
  },
  {
   "cell_type": "code",
   "execution_count": null,
   "id": "29fb09cd",
   "metadata": {
    "id": "29fb09cd"
   },
   "outputs": [],
   "source": [
    "# Mencari Outliers - Boxplot\n",
    "\n",
    "# 24. Exclude tipe data object\n",
    "df_outlier = df.<...>(<...>=<...>)\n",
    "for column in df_outlier:\n",
    "        plt.figure(figsize=(20,2))\n",
    "        sns.boxplot(data=df_outlier, x=column)"
   ]
  },
  {
   "cell_type": "code",
   "execution_count": null,
   "id": "aca0e30a",
   "metadata": {
    "id": "aca0e30a"
   },
   "outputs": [],
   "source": [
    "# Analisa jumlah delay masing-masing maskapai \n",
    "\n",
    "# 25. Menjumlahkan nilai dalam kolom 'Class' untuk setiap kelompok maskapai penerbangan, dan mengurutkan maskapai berdasarkan jumlah nilai 'Class' secara menurun.\n",
    "Airline_Delay_Count = df.groupby('<...>').sum()['<...>'].sort_values(ascending=False)\n",
    "\n",
    "plt.figure(figsize=(10,5))\n",
    "\n",
    "myColors = sns.color_palette('pastel')[0:5]\n",
    "Airline_Delay_Count.plot(kind='<...>',color= <...>)\n",
    "plt.ylabel('Jumlah Delay')\n",
    "plt.title('Jumlah Delay Masing-Masing Airline')\n",
    "plt.show()"
   ]
  },
  {
   "cell_type": "code",
   "execution_count": null,
   "id": "cd10e1c3",
   "metadata": {
    "id": "cd10e1c3"
   },
   "outputs": [],
   "source": [
    "# 26. Analisa Hari dengan delay - Groupby\n",
    "delay_per_day = df.groupby(['<...>','<...>']).count().unstack('<...>')['Time']\n",
    "delay_per_day"
   ]
  },
  {
   "cell_type": "code",
   "execution_count": null,
   "id": "aad039cc",
   "metadata": {
    "id": "aad039cc"
   },
   "outputs": [],
   "source": [
    "# 27. Membuat for loops untuk menghitung persentase delay per hari\n",
    "for i in range(delay_per_day.shape[0]):\n",
    "    numOfFlights = delay_per_day.iloc[i,0] + delay_per_day.iloc[i,1]\n",
    "    for j in [0,1]:\n",
    "        delay_per_day.iloc[i,j] = delay_per_day.iloc[i,j]/numOfFlights\n",
    "\n",
    "delay_per_day.sort_values(by=delay_per_day.columns[<...>],ascending=False)"
   ]
  },
  {
   "cell_type": "code",
   "execution_count": null,
   "id": "45f14d8b",
   "metadata": {
    "id": "45f14d8b"
   },
   "outputs": [],
   "source": [
    "# 28. Label Pie Chart\n",
    "pieChartLabels = ['<...>','<...>']\n",
    "\n",
    "#Menentukan warna pale\n",
    "myColors = sns.color_palette('pastel')\n",
    "\n",
    "#Menampilkan pie chart untuk 1 minggu   \n",
    "for i in range(1,8):\n",
    "    b = delay_per_day.iloc[i-1,:]\n",
    "    #create pie chart\n",
    "    plt.pie(b, labels = pieChartLabels, colors = myColors, autopct='%.0f%%')\n",
    "    plt.title('Day ' + str(i))\n",
    "    plt.show()"
   ]
  },
  {
   "cell_type": "code",
   "execution_count": null,
   "id": "91831a95",
   "metadata": {
    "id": "91831a95"
   },
   "outputs": [],
   "source": [
    "# 29. Melihat korelasi antara kolom\n",
    "df.select_dtypes(exclude=\"<...>\").corr()"
   ]
  },
  {
   "cell_type": "code",
   "execution_count": null,
   "id": "77d67e23",
   "metadata": {
    "id": "77d67e23"
   },
   "outputs": [],
   "source": [
    "## 30. Melihat korelasi dengan Seaborn heatmap\n",
    "sns.heatmap(df.<...>_<...>(exclude=\"<...>\").<...>())"
   ]
  }
 ],
 "metadata": {
  "colab": {
   "provenance": []
  },
  "kernelspec": {
   "display_name": "Python 3 (ipykernel)",
   "language": "python",
   "name": "python3"
  },
  "language_info": {
   "codemirror_mode": {
    "name": "ipython",
    "version": 3
   },
   "file_extension": ".py",
   "mimetype": "text/x-python",
   "name": "python",
   "nbconvert_exporter": "python",
   "pygments_lexer": "ipython3",
   "version": "3.10.11"
  }
 },
 "nbformat": 4,
 "nbformat_minor": 5
}
