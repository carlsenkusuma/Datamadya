{
 "cells": [
  {
   "cell_type": "markdown",
   "id": "30fce050",
   "metadata": {
    "id": "30fce050"
   },
   "source": [
    "<center>\n",
    "    <img src=\"https://drive.google.com/uc?export=view&id=1hDKusF04c0lNZA_qOShvWQrpImayVKz8\"  width=\"1000\" />\n",
    "</center>"
   ]
  },
  {
   "cell_type": "markdown",
   "id": "78957aef",
   "metadata": {
    "id": "78957aef"
   },
   "source": [
    "# Tugas Mandiri\n",
    "---\n",
    "Tugas mandiri ini digunakan pada kegiatan Kursus Data Science yang merupakan pembekalan bagi mahasiswa Universitas Gunadarma untuk Skema Associate Data Scientist"
   ]
  },
  {
   "cell_type": "markdown",
   "id": "e1d3e6a4",
   "metadata": {
    "id": "e1d3e6a4"
   },
   "source": [
    "### Pertemuan 3 - Semester 8"
   ]
  },
  {
   "cell_type": "markdown",
   "id": "d4269619",
   "metadata": {
    "id": "d4269619"
   },
   "source": [
    "### Daftar Isi :\n",
    "1. Transformasi Data\n",
    "2. Rekayasa Fitur\n",
    "3. Imputasi\n",
    "    - Missing Completely At Random\n",
    "    - Missing At Random\n",
    "    - Missing Not At Random\n",
    "4. Tahapan dan Teknik Imputasi\n",
    "5. Teknik Handling Outlier: Trimming vs Winsorizing\n",
    "6. Scalling\n",
    "7. Dokumentasi Data/Fitur\n",
    "8. Pelabelan Data\n",
    "    - Supervised Learning\n",
    "    - Unsupervised Learning\n",
    "    - Semi-supervised Learning\n",
    "9. Pendekatan Pelabelan Data\n",
    "10. Menganalisa Akurasi Pelabelan Data\n",
    "11. Metode QA untuk Mengukur Kualitas Data\n",
    "12. Keamanan Pelabelan Data\n"
   ]
  },
  {
   "cell_type": "markdown",
   "id": "e823c4bf",
   "metadata": {
    "id": "e823c4bf"
   },
   "source": [
    "### 1. Transformasi Data\n",
    "---"
   ]
  },
  {
   "cell_type": "markdown",
   "id": "8828f238",
   "metadata": {
    "id": "8828f238"
   },
   "source": [
    "Representasi Fitur atau Pembelajaran Fitur:  \n",
    "- Teknik-Teknik yang memungkinkan sistem bekerja otomatis menemukan representasi yang diperlukan (untuk deteksi fitur atau klasifikasi dari dataset),\n",
    "- Menggantikan rekayasa fitur manual, dan \n",
    "- Memungkinkan mesin mempelajari fitur dan menggunakannya untuk melakukan tugas tertentu.\n"
   ]
  },
  {
   "cell_type": "markdown",
   "id": "119719d1",
   "metadata": {
    "id": "119719d1"
   },
   "source": [
    "### 2. Rekayasa Fitur\n",
    "---"
   ]
  },
  {
   "cell_type": "markdown",
   "id": "f314f4a3",
   "metadata": {
    "id": "f314f4a3"
   },
   "source": [
    "Rekayasa Fitur: \n",
    "- Proses mengubah data mentah menjadi fitur yang:\n",
    "    - Mewakili masalah mendasar ke model prediktif, \n",
    "    - Menghasilkan akurasi model yang lebih baik pada data yang tidak terlihat.\n",
    "\n"
   ]
  },
  {
   "cell_type": "markdown",
   "id": "e26da54c",
   "metadata": {
    "id": "e26da54c"
   },
   "source": [
    "### 3. Imputasi\n",
    "---"
   ]
  },
  {
   "cell_type": "markdown",
   "id": "27386564",
   "metadata": {
    "id": "27386564"
   },
   "source": [
    "Pengertian: Mengganti nilai/data yang hilang (missing value; NaN; blank) dengan nilai pengganti.\n",
    "\n",
    "Jenis missing value:\n",
    "1. Missing Completely At Random (MCAR).\n",
    "\n",
    "Definisi: Probabilitas sebuah instance yang hilang tidak bergantung pada nilai yang diketahui atau nilai yang hilang itu sendiri.\n",
    "\n",
    "Contoh: Tabel data dicetak tanpa nilai yang hilang dan seseorang secara tidak sengaja menjatuhkan beberapa tinta di atasnya sehingga beberapa sel tidak dapat dibaca lagi. Di sini, kita dapat mengasumsikan bahwa nilai yang hilang mengikuti distribusi yang sama dengan nilai yang diketahui.\n",
    "\n",
    "2. Missing At Random (MAR).\n",
    "\n",
    "Definisi: Probabilitas sebuah instance yang hilang mungkin bergantung pada nilai yang diketahui tetapi tidak pada nilai yang hilang itu sendiri.\n",
    "\n",
    "Contoh: Dalam kasus sensor suhu, fakta bahwa suatu nilai hilang tidak bergantung pada suhu, tetapi mungkin bergantung pada beberapa faktor lain, misalnya pada daya baterai termometer.\n",
    "\n",
    "Contoh survei: Apakah seseorang menjawab pertanyaan atau tidak - mis. tentang usia- dalam survei tidak tergantung pada jawaban itu sendiri, tetapi mungkin tergantung pada jawaban untuk pertanyaan lain, yaitu jenis kelamin perempuan.\n",
    "\n",
    "\n",
    "3. Missing Not At Random (MNAR).\n",
    "\n",
    "Definisi : Probabilitas sebuah instance yang hilang terjadi atau bergantung dengan nilai instance itu sendiri\n",
    "\n",
    "Pada kasus MNAR, mekanisme bagaimana data tersebut hilang dapat diketahui. Hanya saja, nilai-nilainya tidak dapat disimpulkan. MNAR biasanya terjadi ketika objek penelitian memilih untuk menghindari pertanyaan, misalnya ketika mereka ditanya mengenai jumlah aset. Kelompok usia tertentu mungkin akan memilih untuk tidak menjawabnya. Mekanismenya jelas terlihat, namun sulit untuk bisa mengetahui jumlah pastinya."
   ]
  },
  {
   "cell_type": "markdown",
   "id": "f022c938",
   "metadata": {
    "id": "f022c938"
   },
   "source": [
    "### 4. Tahapan dan Teknik Imputasi\n",
    "---"
   ]
  },
  {
   "cell_type": "markdown",
   "id": "de1656b6",
   "metadata": {
    "id": "de1656b6"
   },
   "source": [
    "Imputasi adalah Mengganti nilai/data yang hilang (missing value; NaN; blank) dengan nilai pengganti.\n",
    "\n",
    "Teknik imputasi berdasarkan tipe data, terdiri dari:\n",
    "1. Tipe data Variabel Numerik, dengan cara:\n",
    "   - Imputasi mean atau median.\n",
    "   - Imputasi nilai suka-suka (arbitrary).\n",
    "   - Imputasi nilai/data ujung (end of tail).\n",
    "\n",
    "\n",
    "2. Tipe data Variabel Kategorik, dengan cara:\n",
    "   - Imputasi kategori yang sering muncul.\n",
    "   - Tambah kategori yang hilang."
   ]
  },
  {
   "cell_type": "markdown",
   "id": "a8815082",
   "metadata": {
    "id": "a8815082"
   },
   "source": [
    "#### 1. Imputasi Tipe data Variabel Numerik"
   ]
  },
  {
   "cell_type": "code",
   "execution_count": null,
   "id": "b4391820",
   "metadata": {
    "id": "b4391820"
   },
   "outputs": [],
   "source": [
    "# 1. Import Library Pandas\n",
    "import <...>"
   ]
  },
  {
   "cell_type": "code",
   "execution_count": null,
   "id": "b3b81537",
   "metadata": {
    "id": "b3b81537"
   },
   "outputs": [],
   "source": [
    "# 2. Memuat data dengan format csv\n",
    "df =  <...>( <...>)"
   ]
  },
  {
   "cell_type": "code",
   "execution_count": null,
   "id": "d41d4dc5",
   "metadata": {
    "id": "d41d4dc5"
   },
   "outputs": [],
   "source": [
    "# 3. Menghitung nilai data yang kosong\n",
    "df.<...>.<...>"
   ]
  },
  {
   "cell_type": "code",
   "execution_count": null,
   "id": "fd308e6e",
   "metadata": {
    "id": "fd308e6e"
   },
   "outputs": [],
   "source": [
    "# 4. Membuat variabel jumlah data yang akan dihapus secara random sebanyak 234 data\n",
    "jumlah_hapus = <...>"
   ]
  },
  {
   "cell_type": "code",
   "execution_count": null,
   "id": "ce156276",
   "metadata": {
    "id": "ce156276"
   },
   "outputs": [],
   "source": [
    "# 5. Membuat variabel untuk menampung indeks dari data yang akan dihapus\n",
    "indeks_hapus = <...>.<...>(<...>).<...>"
   ]
  },
  {
   "cell_type": "markdown",
   "id": "8c6cd738-264d-4a05-aa6e-7aadcea5481a",
   "metadata": {},
   "source": [
    "Soal nomor 6 di bawah ini, berikut instruksinya : Buatlah baris menjadi nilai None atau hapus baris sesuai dengan indeks yang dideklarasikan di variabel indeks_hapus dan pada kolom \"Time\""
   ]
  },
  {
   "cell_type": "code",
   "execution_count": null,
   "id": "d218a645",
   "metadata": {
    "id": "d218a645"
   },
   "outputs": [],
   "source": [
    "# 6. Membuat baris menjadi nilai None atau menghapus baris sesuai dengan indeks yang dideklarasikan di variabel indeks_hapus dan pada kolom \"Time\"\n",
    "df.loc[<...>, <...>] = <...>"
   ]
  },
  {
   "cell_type": "code",
   "execution_count": null,
   "id": "4db826be",
   "metadata": {
    "id": "4db826be"
   },
   "outputs": [],
   "source": [
    "# 7. Menghitung nilai data yang kosong\n",
    "df.<...>.<...>"
   ]
  },
  {
   "cell_type": "code",
   "execution_count": null,
   "id": "7af97047",
   "metadata": {
    "id": "7af97047"
   },
   "outputs": [],
   "source": [
    "# 8. Menghitung persentase data yang kosong pada kolom \"Time\"\n",
    "length_missdata_percentage = (<...> / <...>) * <...>\n",
    "<...>"
   ]
  },
  {
   "cell_type": "code",
   "execution_count": null,
   "id": "90338996",
   "metadata": {
    "id": "90338996"
   },
   "outputs": [],
   "source": [
    "# 9. Melakukan imputasi pada data yang kosong dengan menggunakan imputasi rata-rata \n",
    "meanImputation = <...>.<...> # Membuat variabel meanImputation untuk menampung nilai rata-rata dari kolom \"Time\"\n",
    "meanImputation"
   ]
  },
  {
   "cell_type": "code",
   "execution_count": null,
   "id": "6f3de69e",
   "metadata": {
    "id": "6f3de69e"
   },
   "outputs": [],
   "source": [
    "# 10. Mengisi nilai kosong menggunakan fungsi fillna dengan nilai rata-rata pada kolom Time\n",
    "df[<...>].<...>(<...>, \n",
    "                    <...>=True) "
   ]
  },
  {
   "cell_type": "code",
   "execution_count": null,
   "id": "11cf194e",
   "metadata": {
    "id": "11cf194e"
   },
   "outputs": [],
   "source": [
    "# Imputasi KNN\n",
    "df = pd.read_csv(\"delay_maskapai.csv\")"
   ]
  },
  {
   "cell_type": "code",
   "execution_count": null,
   "id": "0fa22220",
   "metadata": {
    "id": "0fa22220"
   },
   "outputs": [],
   "source": [
    "# 11. Import Library Numpy & Mengambil 15% data dari jumlah data yang ada\n",
    "import <...>\n",
    "sample_size = <...>(<...>(<...>) * <...>)\n",
    "df_sample = df.<...>(n=<...>, <...>=1)"
   ]
  },
  {
   "cell_type": "code",
   "execution_count": null,
   "id": "67c1baf8",
   "metadata": {
    "id": "67c1baf8"
   },
   "outputs": [],
   "source": [
    "df_sample.head()"
   ]
  },
  {
   "cell_type": "code",
   "execution_count": null,
   "id": "cb11ef52",
   "metadata": {
    "id": "cb11ef52"
   },
   "outputs": [],
   "source": [
    "# 12. Menghapus secara random 243 data dari kolom 'Time'\n",
    "remove_indices = np.<...>.<...>(<...>, <...>=243, <...>=False)\n",
    "df_sample.<...>[<...>, <...>] = np.<...>"
   ]
  },
  {
   "cell_type": "code",
   "execution_count": null,
   "id": "ba4e77af",
   "metadata": {
    "id": "ba4e77af"
   },
   "outputs": [],
   "source": [
    "df_sample.isnull().sum()"
   ]
  },
  {
   "cell_type": "code",
   "execution_count": null,
   "id": "17a27b78",
   "metadata": {
    "id": "17a27b78"
   },
   "outputs": [],
   "source": [
    "# 13. Melakukan import library untuk melakukan imputasi dengan KNN\n",
    "from <...> import <...>"
   ]
  },
  {
   "cell_type": "code",
   "execution_count": null,
   "id": "10db285c",
   "metadata": {
    "id": "10db285c"
   },
   "outputs": [],
   "source": [
    "# 14. Membuat instance KNNImputer\n",
    "imputer = <...>(<...>=3)\n",
    "\n",
    "# 15. Melakukan imputasi dengan KNN pada kolom 'Time' di df_sample\n",
    "imputed_data = <...>.<...>(<...>)\n",
    "\n",
    "# 16. Mengganti nilai kosong di df_sample dengan data yang telah diimputasi\n",
    "df_sample.loc[:, <...>] = <...>"
   ]
  },
  {
   "cell_type": "code",
   "execution_count": null,
   "id": "413beeed",
   "metadata": {
    "id": "413beeed"
   },
   "outputs": [],
   "source": [
    "df_sample.isnull().any()"
   ]
  },
  {
   "cell_type": "code",
   "execution_count": null,
   "id": "82a8dd97",
   "metadata": {
    "id": "82a8dd97"
   },
   "outputs": [],
   "source": [
    "# 17. Melihat hasil dari data kosong yang telah diimputasi\n",
    "unique_values = df_sample.loc[remove_indices, 'Time'].unique()\n",
    "\n",
    "print(unique_values)"
   ]
  },
  {
   "cell_type": "markdown",
   "id": "9d0e19c6",
   "metadata": {
    "id": "9d0e19c6"
   },
   "source": [
    "#### 2. Imputasi Tipe data Variabel Kategorikal"
   ]
  },
  {
   "cell_type": "code",
   "execution_count": null,
   "id": "7b72299d",
   "metadata": {
    "id": "7b72299d"
   },
   "outputs": [],
   "source": [
    "# Memuat data dengan format csv\n",
    "df = pd.read_csv(\"delay_maskapai.csv\")"
   ]
  },
  {
   "cell_type": "code",
   "execution_count": null,
   "id": "8df53bb3",
   "metadata": {
    "id": "8df53bb3",
    "scrolled": true
   },
   "outputs": [],
   "source": [
    "# 18. Mengecek tipe data setiap kolom\n",
    "df.<...>"
   ]
  },
  {
   "cell_type": "code",
   "execution_count": null,
   "id": "821c62c4",
   "metadata": {
    "id": "821c62c4"
   },
   "outputs": [],
   "source": [
    "# 19. Mengimport Library Numpy dan Sklearn.impute\n",
    "import <...> as <...>\n",
    "from <...> import <...>"
   ]
  },
  {
   "cell_type": "code",
   "execution_count": null,
   "id": "0b1be34d",
   "metadata": {
    "id": "0b1be34d"
   },
   "outputs": [],
   "source": [
    "jumlah_hapus = 814\n",
    "indeks_hapus = np.random.choice(df.index, jumlah_hapus, replace=False)"
   ]
  },
  {
   "cell_type": "code",
   "execution_count": null,
   "id": "109dd7b5",
   "metadata": {
    "id": "109dd7b5"
   },
   "outputs": [],
   "source": [
    "# 20. Membuat copy dari kolom AirportFrom \n",
    "airportfrom_column = <...>.<...>\n",
    "\n",
    "# Menghapus baris data secara random sesuai variabel dari indeks hapus di atas\n",
    "airportfrom_column.loc[indeks_hapus] = np.nan"
   ]
  },
  {
   "cell_type": "code",
   "execution_count": null,
   "id": "8213b871",
   "metadata": {
    "id": "8213b871"
   },
   "outputs": [],
   "source": [
    "# 21. Membuat algoritma SimpleImputer dengan strategi 'most_frequent'\n",
    "modeImputer = <...>(<...>y='most_frequent')\n",
    "\n",
    "# 22. Melakukan imputasi dengan SimpleImputer\n",
    "imputed_data = <...>.<...>(<...>.<...>.<...>(-1, 1))\n",
    "\n",
    "# 23. Memperbaharui data pada kolom Airline dengan data yang telah diimputasi pada imputed_data\n",
    "df['AirportFrom'] = <...>.<...>"
   ]
  },
  {
   "cell_type": "code",
   "execution_count": null,
   "id": "afe47d73",
   "metadata": {
    "id": "afe47d73"
   },
   "outputs": [],
   "source": [
    "# 24 Mengecek nilai unik dari variabel imputed_data\n",
    "np.<...>(<...>)"
   ]
  },
  {
   "cell_type": "code",
   "execution_count": null,
   "id": "18592367",
   "metadata": {
    "id": "18592367"
   },
   "outputs": [],
   "source": [
    "# Mengecek apakah ada data kosong pada kolom Airline\n",
    "df['AirportFrom'].isna().any()"
   ]
  },
  {
   "cell_type": "markdown",
   "id": "2bff4dcf",
   "metadata": {
    "id": "2bff4dcf"
   },
   "source": [
    "### 5. Teknik Handling Outlier : Trimming vs Winsorizing\n",
    "---"
   ]
  },
  {
   "cell_type": "markdown",
   "id": "6d541c7e",
   "metadata": {
    "id": "6d541c7e"
   },
   "source": [
    "- Trimming\n",
    "    - Nama lain: Truncation (Potong)\n",
    "    - Definisi: Menghapus outlier dari dataset \n",
    "    - Perlu memutuskan metrik untuk menentukan outlier\n",
    "- Winsorizing\n",
    "    - Definisi: Mengganti outlier dari dataset dengan nilai persentil setiap ujung/batas atas dan bawah.\n",
    "\n"
   ]
  },
  {
   "cell_type": "code",
   "execution_count": null,
   "id": "fa1d6eed",
   "metadata": {
    "id": "fa1d6eed"
   },
   "outputs": [],
   "source": [
    "# Memuat data dengan format csv\n",
    "df = pd.read_csv(\"delay_maskapai.csv\")"
   ]
  },
  {
   "cell_type": "code",
   "execution_count": null,
   "id": "cd4b4099",
   "metadata": {
    "id": "cd4b4099"
   },
   "outputs": [],
   "source": [
    "df.head()"
   ]
  },
  {
   "cell_type": "code",
   "execution_count": null,
   "id": "51d47369",
   "metadata": {
    "id": "51d47369"
   },
   "outputs": [],
   "source": [
    "# Import Library matplotlib.pyplot & Seaborn\n",
    "import matplotlib.pyplot as plt\n",
    "import seaborn as sns"
   ]
  },
  {
   "cell_type": "code",
   "execution_count": null,
   "id": "ffa8701e",
   "metadata": {
    "id": "ffa8701e"
   },
   "outputs": [],
   "source": [
    "# Mencari Outliers - Boxplot\n",
    "df_outlier = df.select_dtypes(exclude=['object'])\n",
    "for column in df_outlier:\n",
    "        plt.figure(figsize=(20,2))\n",
    "        sns.boxplot(data=df_outlier, x=column)"
   ]
  },
  {
   "cell_type": "markdown",
   "id": "2c11ee20",
   "metadata": {
    "id": "2c11ee20"
   },
   "source": [
    "Dapa dilihat dari boxplot di atas bahwa kolom Length memiliki outliers di atas batas maksimum"
   ]
  },
  {
   "cell_type": "markdown",
   "id": "b6af500c",
   "metadata": {
    "id": "b6af500c"
   },
   "source": [
    "#### Teknik Trimming (Pangkas) Outlier\n",
    "----"
   ]
  },
  {
   "cell_type": "code",
   "execution_count": null,
   "id": "8e119c36",
   "metadata": {
    "id": "8e119c36"
   },
   "outputs": [],
   "source": [
    "# Mengecek tipe data pada setiap kolom\n",
    "df.dtypes"
   ]
  },
  {
   "cell_type": "code",
   "execution_count": null,
   "id": "da71caf3",
   "metadata": {
    "id": "da71caf3"
   },
   "outputs": [],
   "source": [
    "# 25. Memilih kolom dengan tipe data selain object\n",
    "<...>"
   ]
  },
  {
   "cell_type": "code",
   "execution_count": null,
   "id": "8cf9be17",
   "metadata": {
    "id": "8cf9be17"
   },
   "outputs": [],
   "source": [
    "# 26. Membuat IQR\n",
    "q1 = <...>\n",
    "q3 = <...>\n",
    "iqr = <...>\n",
    "iqr"
   ]
  },
  {
   "cell_type": "code",
   "execution_count": null,
   "id": "1e70ef0b",
   "metadata": {
    "id": "1e70ef0b"
   },
   "outputs": [],
   "source": [
    "batas_atas = q3 + 1.5 * iqr\n",
    "batas_atas"
   ]
  },
  {
   "cell_type": "code",
   "execution_count": null,
   "id": "dda2972e",
   "metadata": {
    "id": "dda2972e"
   },
   "outputs": [],
   "source": [
    "# 27. Memangkas Outliers\n",
    "df_noid_outlier_clean = <...>[~(<...> | <...>).<...>(<...>=1)]"
   ]
  },
  {
   "cell_type": "code",
   "execution_count": null,
   "id": "24d8af54",
   "metadata": {
    "id": "24d8af54"
   },
   "outputs": [],
   "source": [
    "df_noid_outlier_clean.head()"
   ]
  },
  {
   "cell_type": "code",
   "execution_count": null,
   "id": "0dc7afff",
   "metadata": {
    "id": "0dc7afff"
   },
   "outputs": [],
   "source": [
    "# Melihat ukuran baris dan kolom setelah dipangkas\n",
    "df_noid_outlier_clean.shape"
   ]
  },
  {
   "cell_type": "code",
   "execution_count": null,
   "id": "18e409f1",
   "metadata": {
    "id": "18e409f1"
   },
   "outputs": [],
   "source": [
    "# Mengecek Outliers - Boxplot\n",
    "plt.figure(figsize=(20,2))\n",
    "sns.boxplot(data=df_noid_outlier_clean, x=df_noid_outlier_clean['Length'])"
   ]
  },
  {
   "cell_type": "code",
   "execution_count": null,
   "id": "asqcVYxPY6j2",
   "metadata": {
    "id": "asqcVYxPY6j2"
   },
   "outputs": [],
   "source": [
    "q1 = df_noid_outlier_clean['Length'].quantile(0.25)\n",
    "q3 = df_noid_outlier_clean['Length'].quantile(0.75)\n",
    "iqr = q3-q1\n",
    "iqr"
   ]
  },
  {
   "cell_type": "code",
   "execution_count": null,
   "id": "CQecAa3NY7Lb",
   "metadata": {
    "id": "CQecAa3NY7Lb"
   },
   "outputs": [],
   "source": [
    "batas_atas = q3 + 1.5 * iqr\n",
    "batas_atas"
   ]
  },
  {
   "cell_type": "code",
   "execution_count": null,
   "id": "05e65630",
   "metadata": {
    "id": "05e65630"
   },
   "outputs": [],
   "source": [
    "# 28. Melihat jumlah outliers\n",
    "jml_outliers = (<...> > <...>).<...>\n",
    "print(jml_outliers)"
   ]
  },
  {
   "cell_type": "markdown",
   "id": "24e3a075",
   "metadata": {
    "id": "24e3a075"
   },
   "source": [
    "Dapat diketahui bahwa outliers berjumlah <b>(Isi Jawaban di sini)</b>"
   ]
  },
  {
   "cell_type": "markdown",
   "id": "be4208c1",
   "metadata": {
    "id": "be4208c1"
   },
   "source": [
    "#### Teknik Winsorizing Outlier\n",
    "----"
   ]
  },
  {
   "cell_type": "code",
   "execution_count": null,
   "id": "4b06aefa",
   "metadata": {
    "id": "4b06aefa"
   },
   "outputs": [],
   "source": [
    "# Memuat data dengan format csv\n",
    "df = pd.read_csv(\"delay_maskapai.csv\")"
   ]
  },
  {
   "cell_type": "code",
   "execution_count": null,
   "id": "db72305e",
   "metadata": {
    "id": "db72305e"
   },
   "outputs": [],
   "source": [
    "# 29. Import Library Winsorize\n",
    "from <...> import <...>"
   ]
  },
  {
   "cell_type": "code",
   "execution_count": null,
   "id": "98bdf5dd",
   "metadata": {
    "id": "98bdf5dd"
   },
   "outputs": [],
   "source": [
    "# 30. Winsorize data sebanyak 10% dari data yang melewati batas maksimum\n",
    "df['Length'] =<...>(<...>, <...>=[0, <...>])"
   ]
  },
  {
   "cell_type": "code",
   "execution_count": null,
   "id": "e2338a8f",
   "metadata": {
    "id": "e2338a8f",
    "scrolled": true
   },
   "outputs": [],
   "source": [
    "# Melihat outliers pada kolom length dengan menggunakan Boxplot\n",
    "plt.figure(figsize=(20,2))\n",
    "sns.boxplot(data=df, x=df['Length'])"
   ]
  },
  {
   "cell_type": "code",
   "execution_count": null,
   "id": "97f54c42",
   "metadata": {
    "id": "97f54c42",
    "scrolled": true
   },
   "outputs": [],
   "source": [
    "# 31. Melihat nilai maksimal dari kolom Length\n",
    "df['Length'].<...>"
   ]
  },
  {
   "cell_type": "markdown",
   "id": "587cd0bd",
   "metadata": {
    "id": "587cd0bd"
   },
   "source": [
    "### 6. Scaling (Penskalaan)\n",
    "---"
   ]
  },
  {
   "cell_type": "markdown",
   "id": "52138fe2",
   "metadata": {
    "id": "52138fe2"
   },
   "source": [
    "Scaling bertujuan untuk mengubah data ke dalam sebuah skala tertentu, seperti 0-100 atau 0-1. \n",
    "\n",
    "Contoh : Data numerik (biasanya) tidak memiliki range. range  “Usia” vs range “Gaji” tidak sama (karakteristik berbeda). Usia memiliki rentang dari 1 sampai 150 (dalam tahun), sedangkan Gaji memiliki rentang dari 10 ribu sampai 100 ribu (dalam dolar). Untuk itu membandingkan perlu scaling.\n",
    "\n",
    "**Jenis Scaling**\n",
    "<center>\n",
    "    <img src=\"https://drive.google.com/uc?export=view&id=1agHfLrSOktOWrALcI-v4v15EVj2fqVs7\"  width=\"500\" />\n",
    "</center>"
   ]
  },
  {
   "cell_type": "markdown",
   "id": "b9bfe618",
   "metadata": {
    "id": "b9bfe618"
   },
   "source": [
    "#### Scaling : Standardisasi\n",
    "---"
   ]
  },
  {
   "cell_type": "code",
   "execution_count": null,
   "id": "11a7d54b",
   "metadata": {
    "id": "11a7d54b"
   },
   "outputs": [],
   "source": [
    "# 32. Melakukan standardisasi dengan library Sklearn\n",
    "from <...> import <...>"
   ]
  },
  {
   "cell_type": "code",
   "execution_count": null,
   "id": "3979dfc1",
   "metadata": {
    "id": "3979dfc1"
   },
   "outputs": [],
   "source": [
    "df = pd.read_csv(\"delay_maskapai.csv\")"
   ]
  },
  {
   "cell_type": "code",
   "execution_count": null,
   "id": "4e3997d4",
   "metadata": {
    "id": "4e3997d4"
   },
   "outputs": [],
   "source": [
    "# 33. Memanggil objek StandardScaler dari sklearn\n",
    "scaler = <...>"
   ]
  },
  {
   "cell_type": "code",
   "execution_count": null,
   "id": "30ae067a",
   "metadata": {
    "id": "30ae067a"
   },
   "outputs": [],
   "source": [
    "# 34, Melakukan standardisasi\n",
    "df[['Time','Length']] = <...>.<...>(<...>)"
   ]
  },
  {
   "cell_type": "code",
   "execution_count": null,
   "id": "0fe8f961",
   "metadata": {
    "id": "0fe8f961"
   },
   "outputs": [],
   "source": [
    "df.head()"
   ]
  },
  {
   "cell_type": "markdown",
   "id": "6eb7a11d",
   "metadata": {
    "id": "6eb7a11d"
   },
   "source": [
    "#### Scaling : Normalisasi / MinMax Scaling\n",
    "---"
   ]
  },
  {
   "cell_type": "code",
   "execution_count": null,
   "id": "d4992a62",
   "metadata": {
    "id": "d4992a62"
   },
   "outputs": [],
   "source": [
    "df = pd.read_csv(\"delay_maskapai.csv\")"
   ]
  },
  {
   "cell_type": "code",
   "execution_count": null,
   "id": "6b0586b9",
   "metadata": {
    "id": "6b0586b9"
   },
   "outputs": [],
   "source": [
    "# 35. Normalisasi / MinMax scaling dengan library sci-kit learn\n",
    "from <...> import <...>\n",
    "\n",
    "# 36. Memanggil Objek MinMaxScaler\n",
    "scaler = <...>\n",
    "\n",
    "# 37. Melakukan MinMax Scaling\n",
    "df[['Time','Length']] = <...>.<...>(<...>)\n",
    "df.head()"
   ]
  },
  {
   "cell_type": "code",
   "execution_count": null,
   "id": "d0bfbb94",
   "metadata": {
    "id": "d0bfbb94"
   },
   "outputs": [],
   "source": [
    "df = pd.read_csv(\"delay_maskapai.csv\")"
   ]
  },
  {
   "cell_type": "code",
   "execution_count": null,
   "id": "36fe6bfd-4518-4811-ada7-b3428057b166",
   "metadata": {},
   "outputs": [],
   "source": [
    "from sklearn import preprocessing"
   ]
  },
  {
   "cell_type": "code",
   "execution_count": null,
   "id": "37dd864c",
   "metadata": {
    "id": "37dd864c"
   },
   "outputs": [],
   "source": [
    "# 38. Normalisasi dengan Robust Scaling - Memanggil Objek RobustScaler\n",
    "scaler = <...>.<...>\n",
    "\n",
    "# 39. Melakukan Robust Scaling\n",
    "df[['Time','Length']] = <...>.<...>(<...>)\n",
    "df.head()"
   ]
  },
  {
   "cell_type": "markdown",
   "id": "f3ba021e",
   "metadata": {
    "id": "f3ba021e"
   },
   "source": [
    "### 7. Dokumentasi Data/Fitur\n",
    "---"
   ]
  },
  {
   "cell_type": "markdown",
   "id": "ef59b0d3",
   "metadata": {
    "id": "ef59b0d3"
   },
   "source": [
    "<center>\n",
    "    <img src=\"https://drive.google.com/uc?export=view&id=1WnLL7CKZ0955yv2UCcqQ6c2hybBoJV_n\"  width=\"500\" />\n",
    "</center>"
   ]
  },
  {
   "cell_type": "markdown",
   "id": "9c5641a4",
   "metadata": {
    "id": "9c5641a4"
   },
   "source": [
    "Laporan dokumentasi data transformation, setidaknya memiliki parameter berikut:\n",
    "- Fitur awal dan rekayasa fitur yang digunakan\n",
    "- Teknik transformasi data yang diterapkan\n",
    "    - Apakah algoritma pemodelan mengharapkan jenis data tertentu, seperti numerik? Jika demikian, lakukan transformasi yang diperlukan\n",
    "    - Apakah data perlu dinormalisasi sebelum pemodelan?\n",
    "    - Bisakah atribut yang hilang dibangun menggunakan agregasi, rata-rata, atau induksi?\n",
    "- Hasil transformasi\n",
    "- Rekomendasi transformasi\n",
    "\n"
   ]
  },
  {
   "cell_type": "markdown",
   "id": "ec3bd6ca",
   "metadata": {
    "id": "ec3bd6ca"
   },
   "source": [
    "### 8. Pelabelan Data\n",
    "---"
   ]
  },
  {
   "cell_type": "markdown",
   "id": "4aa43a2b",
   "metadata": {
    "id": "4aa43a2b"
   },
   "source": [
    "<center>\n",
    "    <img src=\"https://drive.google.com/uc?export=view&id=1N6vd9WgKcDN_EYo-vqrz1_E2HabzyA9f\"  width=\"500\" />\n",
    "</center>"
   ]
  },
  {
   "cell_type": "markdown",
   "id": "2951d573",
   "metadata": {
    "id": "2951d573"
   },
   "source": [
    "<center>\n",
    "    <img src=\"https://drive.google.com/uc?export=view&id=1cM1XDmvN8zNqN2f0-H-wsGZkJmqxWrzC\"  width=\"700\" />\n",
    "</center>"
   ]
  },
  {
   "cell_type": "markdown",
   "id": "fce0522b",
   "metadata": {
    "id": "fce0522b"
   },
   "source": [
    "- Label encoding menggantikan nilai kategori dengan angka, yaitu mengubah setiap nilai kategori menjadi bilangan bulat. Pendekatan ini bergantung pada urutan nilai dan dapat digunakan untuk variabel kategorikal dengan tingkatan yang terurut.\n",
    "\n",
    "    Pada contoh di atas negara India, Japan, dan US diubah menjadi bilangan 0,1,2 dan masih berada pada kolom di atas\n",
    "    \n",
    "    Keuntungan label encoding adalah sederhana dan efisien dalam representasi data yang membutuhkan perhatian pada urutan. Namun, metode ini juga bisa menimbulkan masalah seperti memberikan bobot pada variabel kategorikal yang seharusnya tidak ada urutan yang intrinsik, yang dapat menyebabkan algoritma pembelajaran mesin memberikan arti yang tidak diinginkan pada variabel tersebut."
   ]
  },
  {
   "cell_type": "markdown",
   "id": "533f3f74",
   "metadata": {
    "id": "533f3f74"
   },
   "source": [
    "- One-hot encoding menghasilkan vektor biner dengan panjang yang sama dengan jumlah kategori unik dalam variabel. Setiap vektor biner memiliki nilai 1 untuk kategori yang relevan dan nilai 0 untuk kategori lainnya. Pada contoh di atas, kolom negara dipecah sesuai isian datanya sehingga membentuk kolom masing-masing seperti India -> kolom 0, Japan -> kolom 1, dan US -> kolom 2\n",
    "\n",
    "    Keuntungan one-hot encoding adalah tidak ada penekanan urutan dan tidak ada bobot yang diberikan pada variabel kategorikal. Ini menghindari masalah yang mungkin timbul dengan label encoding. Namun, jika jumlah kategori unik sangat besar, one-hot encoding dapat menyebabkan ledakan dimensi dan meningkatkan kompleksitas pemrosesan."
   ]
  },
  {
   "cell_type": "code",
   "execution_count": null,
   "id": "bf97fb84",
   "metadata": {
    "id": "bf97fb84"
   },
   "outputs": [],
   "source": [
    "# 40. Label Encoding - Import Library Sklearn Preprocessing\n",
    "from <...> import <...>"
   ]
  },
  {
   "cell_type": "code",
   "execution_count": null,
   "id": "b3af2c52",
   "metadata": {
    "id": "b3af2c52"
   },
   "outputs": [],
   "source": [
    "# 41. Memuat Dataset\n",
    "df = <...>"
   ]
  },
  {
   "cell_type": "code",
   "execution_count": null,
   "id": "d5dfd8fe",
   "metadata": {
    "id": "d5dfd8fe"
   },
   "outputs": [],
   "source": [
    "# 42. Menyimpan nama kolom yang berjenis kategori ke dalam variabel cat_col\n",
    "cat_col = <...>"
   ]
  },
  {
   "cell_type": "code",
   "execution_count": null,
   "id": "2bd36cd8",
   "metadata": {
    "id": "2bd36cd8"
   },
   "outputs": [],
   "source": [
    "# 43. Encoding Kolom Kategori - Memanggil Objek Label Encoder\n",
    "le = preprocessing.LabelEncoder()\n",
    "\n",
    "# 44. Melakukan Label Encoding\n",
    "df[cat_col] = df[<...>].<...>(<...>.<...>)"
   ]
  },
  {
   "cell_type": "code",
   "execution_count": null,
   "id": "df5c25d2",
   "metadata": {
    "id": "df5c25d2"
   },
   "outputs": [],
   "source": [
    "# 45. Melihat 15 data terakhir\n",
    "<...>(15)"
   ]
  },
  {
   "cell_type": "code",
   "execution_count": null,
   "id": "dbf7df1b",
   "metadata": {
    "id": "dbf7df1b"
   },
   "outputs": [],
   "source": [
    "# 46. One Hot Encoding - Muat Dataset pada variabel df\n",
    "<...>"
   ]
  },
  {
   "cell_type": "code",
   "execution_count": null,
   "id": "55509630",
   "metadata": {
    "id": "55509630",
    "scrolled": true
   },
   "outputs": [],
   "source": [
    "# 47 Menyimpan nama kolom yang berjenis kategori ke dalam variabel cat_col\n",
    "<...>\n",
    "\n",
    "# 48. Melakukan One Hot Encoding\n",
    "df = pd.<...>(\n",
    "    <...>=df # Soal No. 49\n",
    "    ,columns=<...>, <...>=True # Soal No. 50\n",
    ")\n",
    "df.head()"
   ]
  },
  {
   "cell_type": "markdown",
   "id": "e7f4e39f",
   "metadata": {
    "id": "e7f4e39f"
   },
   "source": [
    "### 8. Menganalisa Akurasi Pelabelan Data\n",
    "---"
   ]
  },
  {
   "cell_type": "markdown",
   "id": "772acfe3",
   "metadata": {
    "id": "772acfe3"
   },
   "source": [
    "- Business Goals suatu AI  yang berbeda memerlukan ukuran kualitas data yang berbeda. \n",
    "\n",
    "- Keseimbangan dan variasi titik data di dalam dataset merupakan indikator seberapa baik algoritma dapat memprediksi suatu titik atau pola selanjutnya. \n",
    "\n",
    "- Misal tugas suatu AI adalah membedakan antara kendaraan yang bergerak dan tidak bergerak. Jika dataset memuat 90% gambar mobil bergerak tetapi hanya 10% yang diparkir, maka dapat dianggap tidak seimbang. \n",
    "\n",
    "- Untuk mengatasi masalah ini dapat digunakan teknik seperti oversampling, downsampling atau weight balancing.\n",
    "\n",
    "- Kualitas data set untuk pelatihan model sering ditentukan oleh seberapa tepat label dan kategori ditempatkan pada setiap titik data. \n",
    "- Namun, bukan hanya tentang keakuratan pelabelan data tetapi juga tentang seberapa konsisten keakuratannya. \n",
    "    - Akurasi dan konsistensi data diukur selama proses penjaminan mutu, langkah-langkah terpisah yang dapat dilakukan secara manual atau otomatis.\n",
    "    - Pendekatan yang berbeda dapat digabungkan untuk cross check dan memastikan kesempurnaan data set.\n",
    "\n",
    "\n"
   ]
  },
  {
   "cell_type": "markdown",
   "id": "febade7f",
   "metadata": {
    "id": "febade7f"
   },
   "source": [
    "<center>\n",
    "    <img src=\"https://drive.google.com/uc?export=view&id=1xwwQEO-nB993e8UB4V37lrzIl04jagxM\"  width=\"500\" />\n",
    "</center>"
   ]
  },
  {
   "cell_type": "markdown",
   "id": "a04093ea",
   "metadata": {
    "id": "a04093ea"
   },
   "source": [
    "#### Apa yang mempengaruhi kualitas data dalam pelabelan?\n"
   ]
  },
  {
   "cell_type": "markdown",
   "id": "6fc6bc00",
   "metadata": {
    "id": "6fc6bc00"
   },
   "source": [
    "- Knowledge and context\n",
    "    - Pengetahuan dasar satu domain dan pemahaman kontekstual sangat penting seperti pemberi label untuk membuat set data terstruktur berkualitas tinggi.\n",
    "- Agility\n",
    "    - Pelabelan data berkembang saat dilakukan pengujian dan validasi model, sehingga harus disiapkan data set baru dan memperkaya data set yang ada untuk meningkatkan hasil algoritma Machine Learning.\n",
    "- Relationship\n",
    "    - Kita memerlukan pemberi label data yang dapat merespons dengan cepat dan mengikuti alur kerja tim, berdasarkan apa yang telah dipelajari dalam fase pengujian dan validasi model.\n",
    "- Communication\n",
    "    - Pendekatan umpan balik (feedback) adalah cara terbaik untuk membangun komunikasi dan kolaborasi yang andal antara tim dan pemberi label data.\n"
   ]
  },
  {
   "cell_type": "markdown",
   "id": "454bdb5c",
   "metadata": {
    "id": "454bdb5c"
   },
   "source": [
    "### 9. Metode QA untuk Mengukur Kualitas Data\n",
    "---"
   ]
  },
  {
   "cell_type": "markdown",
   "id": "7051f717",
   "metadata": {
    "id": "7051f717"
   },
   "source": [
    "- Consensus Algorithm\n",
    "    - Merupakan proses untuk mencapai reliabilitas data melalui kesepakatan pada satu titik data di antara beberapa individu pemberi label data atau suatu organisasi. \n",
    "    - Konsensus dapat dilakukan dengan menetapkan sejumlah reviewer per titik data (umumnya untuk data open source) atau sepenuhnya otomatis.\n",
    "\n",
    "- Benchmarking and Gold Standard\n",
    "    - Benchmarking adalah pendekatan yang lebih kompleks dan andal untuk QA, karena menggunakan standar tertentu.\n",
    "    - Menggunakan otomatisasi, pemberi label mendapatkan benchmark secara acak untuk memastikan bahwa label dan anotasi mematuhi referensi yang telah ditentukan\n",
    "    - Ahli diperlukan hanya untuk membuat referensi dan meninjau kualitas secara keseluruhan dan potensi penyimpangan.\n",
    "    \n",
    "- Sample review\n",
    "    - Pilih sampel acak dari hasil pelabelan yang telah diselesaikan.\n",
    "    - Pekerja yang lebih berpengalaman, seperti pemimpin tim atau manajer proyek, dapat meninjau sampel untuk mengukur akurasinya.\n",
    "\n",
    "- Cronbach's Alpha Test\n",
    "    - Digunakan sebagai ukuran korelasi rata-rata atau konsistensi item dalam dataset, yang tergantung pada karakteristik penelitian (misal homogenitas).\n",
    "    - Dapat membantu dengan cepat melihat keandalan label secara keseluruhan.\n",
    "\n"
   ]
  },
  {
   "cell_type": "markdown",
   "id": "d4116d8c",
   "metadata": {
    "id": "d4116d8c"
   },
   "source": [
    "### 10.Keamanan Pelabelan Data\n",
    "---"
   ]
  },
  {
   "cell_type": "markdown",
   "id": "265836cc",
   "metadata": {
    "id": "265836cc"
   },
   "source": [
    "Tiga area yang perlu menjadi perhatian untuk menjaga keamanan dokumen\n",
    "- **Orang dan Tenaga Kerja** : Ini dapat mencakup pemeriksaan latar belakang untuk pekerja dan mungkin mengharuskan pemberi label untuk menandatangani perjanjian kerahasiaan (NDA) atau dokumen serupa yang menguraikan persyaratan keamanan data.\n",
    "- **Teknologi dan Jaringan** : Pekerja mungkin diminta untuk menyerahkan perangkat yang mereka bawa ke tempat kerja, seperti ponsel atau tablet.\n",
    "- **Fasilitas dan Ruang Kerja** : Pekerja dapat duduk di tempat yang menghalangi orang lain untuk melihat pekerjaan mereka.\n"
   ]
  }
 ],
 "metadata": {
  "colab": {
   "provenance": []
  },
  "kernelspec": {
   "display_name": "Python 3 (ipykernel)",
   "language": "python",
   "name": "python3"
  },
  "language_info": {
   "codemirror_mode": {
    "name": "ipython",
    "version": 3
   },
   "file_extension": ".py",
   "mimetype": "text/x-python",
   "name": "python",
   "nbconvert_exporter": "python",
   "pygments_lexer": "ipython3",
   "version": "3.8.10"
  }
 },
 "nbformat": 4,
 "nbformat_minor": 5
}
